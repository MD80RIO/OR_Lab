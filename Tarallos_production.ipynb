{
 "cells": [
  {
   "cell_type": "markdown",
   "id": "correct-pregnancy",
   "metadata": {},
   "source": [
    "# Model - 1"
   ]
  },
  {
   "cell_type": "markdown",
   "id": "banned-genre",
   "metadata": {},
   "source": [
    "The model's objective, neglecting the entirety of the variables, to regulate the production of the packages $ t_i $ in order to maximize the collection $ \\ sum_i price_ix_i $ being $ x_i $ the quantity (not integer) of boxes of the type $ i $ .\n",
    "Obviously, since each box contains different types of tarallo inside, the constraint according to which $ \\ sum_j type_j * x_i \\ leq maxquant_j $ must be respected. We then want to impose a constraint on the number of individual boxes with respect to the total, that is, we want to impose the constraint $ x_i \\ leq perc_i \\ sum_i (x_i) $. So the model is:\n",
    "\n",
    "$$ \\max \\sum_i prezzo_ix_i \\\\\n",
    "\\sum_i kind_j \\cdot x_i \\leq maxquant_j \\\\\n",
    "x_i \\leq perc_i\\sum_i(x_i) \\\\\n",
    "x_i \\geq 0 \\ \\ \\ \\forall i\n",
    "$$"
   ]
  },
  {
   "cell_type": "code",
   "execution_count": 1,
   "id": "signed-america",
   "metadata": {
    "ExecuteTime": {
     "end_time": "2021-01-19T15:48:26.930397Z",
     "start_time": "2021-01-19T15:48:25.687312Z"
    }
   },
   "outputs": [],
   "source": [
    "import pyomo.environ as pe\n",
    "import pandas as pd"
   ]
  },
  {
   "cell_type": "code",
   "execution_count": 2,
   "id": "cathedral-vault",
   "metadata": {
    "ExecuteTime": {
     "end_time": "2021-01-19T15:48:29.438721Z",
     "start_time": "2021-01-19T15:48:28.987035Z"
    }
   },
   "outputs": [
    {
     "data": {
      "text/html": [
       "<div>\n",
       "<style scoped>\n",
       "    .dataframe tbody tr th:only-of-type {\n",
       "        vertical-align: middle;\n",
       "    }\n",
       "\n",
       "    .dataframe tbody tr th {\n",
       "        vertical-align: top;\n",
       "    }\n",
       "\n",
       "    .dataframe thead th {\n",
       "        text-align: right;\n",
       "    }\n",
       "</style>\n",
       "<table border=\"1\" class=\"dataframe\">\n",
       "  <thead>\n",
       "    <tr style=\"text-align: right;\">\n",
       "      <th></th>\n",
       "      <th>Taralli al finocchietto</th>\n",
       "      <th>Taralli al peperoncino</th>\n",
       "      <th>Taralli allo zenzero</th>\n",
       "      <th>Prezzo di vendita</th>\n",
       "      <th>Percentuale massima</th>\n",
       "    </tr>\n",
       "  </thead>\n",
       "  <tbody>\n",
       "    <tr>\n",
       "      <th>t1</th>\n",
       "      <td>20</td>\n",
       "      <td>3</td>\n",
       "      <td>12</td>\n",
       "      <td>3.0</td>\n",
       "      <td>0.35</td>\n",
       "    </tr>\n",
       "    <tr>\n",
       "      <th>t2</th>\n",
       "      <td>10</td>\n",
       "      <td>17</td>\n",
       "      <td>0</td>\n",
       "      <td>12.0</td>\n",
       "      <td>0.45</td>\n",
       "    </tr>\n",
       "    <tr>\n",
       "      <th>t3</th>\n",
       "      <td>7</td>\n",
       "      <td>5</td>\n",
       "      <td>18</td>\n",
       "      <td>16.0</td>\n",
       "      <td>0.40</td>\n",
       "    </tr>\n",
       "    <tr>\n",
       "      <th>t4</th>\n",
       "      <td>10</td>\n",
       "      <td>15</td>\n",
       "      <td>5</td>\n",
       "      <td>11.0</td>\n",
       "      <td>0.38</td>\n",
       "    </tr>\n",
       "    <tr>\n",
       "      <th>t5</th>\n",
       "      <td>10</td>\n",
       "      <td>20</td>\n",
       "      <td>10</td>\n",
       "      <td>10.0</td>\n",
       "      <td>0.55</td>\n",
       "    </tr>\n",
       "    <tr>\n",
       "      <th>Quantità limite</th>\n",
       "      <td>6000</td>\n",
       "      <td>5100</td>\n",
       "      <td>3200</td>\n",
       "      <td>NaN</td>\n",
       "      <td>NaN</td>\n",
       "    </tr>\n",
       "  </tbody>\n",
       "</table>\n",
       "</div>"
      ],
      "text/plain": [
       "                 Taralli al finocchietto  Taralli al peperoncino  \\\n",
       "t1                                    20                       3   \n",
       "t2                                    10                      17   \n",
       "t3                                     7                       5   \n",
       "t4                                    10                      15   \n",
       "t5                                    10                      20   \n",
       "Quantità limite                     6000                    5100   \n",
       "\n",
       "                 Taralli allo zenzero  Prezzo di vendita  Percentuale massima  \n",
       "t1                                 12                3.0                 0.35  \n",
       "t2                                  0               12.0                 0.45  \n",
       "t3                                 18               16.0                 0.40  \n",
       "t4                                  5               11.0                 0.38  \n",
       "t5                                 10               10.0                 0.55  \n",
       "Quantità limite                  3200                NaN                  NaN  "
      ]
     },
     "execution_count": 2,
     "metadata": {},
     "output_type": "execute_result"
    }
   ],
   "source": [
    "#getting the data from an Excel target file\n",
    "path = 'Compito_E_1864353_dati.xlsx'\n",
    "df = pd.read_excel(path, index_col=0)\n",
    "df"
   ]
  },
  {
   "cell_type": "code",
   "execution_count": 3,
   "id": "blessed-edinburgh",
   "metadata": {
    "ExecuteTime": {
     "end_time": "2021-01-19T15:48:31.767091Z",
     "start_time": "2021-01-19T15:48:31.757560Z"
    }
   },
   "outputs": [],
   "source": [
    "#obtaining model's sets\n",
    "#different kinds of commercial boxes (every row but the last)\n",
    "S = df.index[:-1]\n",
    "#different kinds of tarallo (an another italian type of bread...) (first three columns of the dataframe)\n",
    "T = df.columns[0:3]\n",
    "#prices\n",
    "prezzi = df.loc[S, 'Prezzo di vendita']\n",
    "#maximal commercial percentage allowed to be sold\n",
    "perc = df.loc[S, 'Percentuale massima']\n",
    "# max number of tarallos for each kind of tarallo\n",
    "qlim = df.loc['Quantità limite',T]\n",
    "\n",
    "# the total number of tarallos for any kind of tarallo and box\n",
    "nt = df.loc[S,T]"
   ]
  },
  {
   "cell_type": "markdown",
   "id": "affiliated-portuguese",
   "metadata": {},
   "source": [
    "# Model -  1"
   ]
  },
  {
   "cell_type": "code",
   "execution_count": 5,
   "id": "exact-pendant",
   "metadata": {
    "ExecuteTime": {
     "end_time": "2021-01-19T15:48:48.295212Z",
     "start_time": "2021-01-19T15:48:48.255382Z"
    }
   },
   "outputs": [
    {
     "data": {
      "text/plain": [
       "{'Problem': [{'Name': 'unknown', 'Lower bound': 5592.69854824936, 'Upper bound': 5592.69854824936, 'Number of objectives': 1, 'Number of constraints': 9, 'Number of variables': 6, 'Number of nonzeros': 40, 'Sense': 'maximize'}], 'Solver': [{'Status': 'ok', 'Termination condition': 'optimal', 'Statistics': {'Branch and bound': {'Number of bounded subproblems': 0, 'Number of created subproblems': 0}}, 'Error rc': 0, 'Time': 0.01636195182800293}], 'Solution': [OrderedDict([('number of solutions', 0), ('number of solutions displayed', 0)])]}"
      ]
     },
     "execution_count": 5,
     "metadata": {},
     "output_type": "execute_result"
    }
   ],
   "source": [
    "#defying the model\n",
    "mdl = pe.ConcreteModel('Modello Esame - Compito E')\n",
    "mdl.x = pe.Var(S, within = pe.NonNegativeReals)\n",
    "\n",
    "mdl.obj = pe.Objective(expr = sum(prezzi[s]*mdl.x[s] for s in S), \n",
    "                       #volendo massimizzare\n",
    "                        sense = -1)\n",
    "\n",
    "#not going above the maximum quantity available for each kind of tarallo\n",
    "def vinc_tar(m, t):\n",
    "    return sum(mdl.x[s]*nt.at[s,t] for s in S) <= qlim[t]\n",
    "mdl.c_disptar = pe.Constraint(T, rule = vinc_tar)\n",
    "\n",
    "#not going above the maximum percentage of each kind of box\n",
    "def perc_mas(m, s):\n",
    "    return m.x[s] <= perc[s]*sum(m.x[s] for s in S)\n",
    "mdl.c_percmas = pe.Constraint(S, rule = perc_mas)\n",
    "\n",
    "#getting a solver\n",
    "solver = pe.SolverFactory('glpk')\n",
    "#solving the model\n",
    "solver.solve(mdl)"
   ]
  },
  {
   "cell_type": "markdown",
   "id": "interstate-edmonton",
   "metadata": {},
   "source": [
    "# Modello punto 1"
   ]
  },
  {
   "cell_type": "code",
   "execution_count": 6,
   "id": "prospective-trustee",
   "metadata": {
    "ExecuteTime": {
     "end_time": "2021-01-19T15:48:51.398419Z",
     "start_time": "2021-01-19T15:48:51.385831Z"
    }
   },
   "outputs": [
    {
     "data": {
      "text/html": [
       "<div>\n",
       "<style scoped>\n",
       "    .dataframe tbody tr th:only-of-type {\n",
       "        vertical-align: middle;\n",
       "    }\n",
       "\n",
       "    .dataframe tbody tr th {\n",
       "        vertical-align: top;\n",
       "    }\n",
       "\n",
       "    .dataframe thead th {\n",
       "        text-align: right;\n",
       "    }\n",
       "</style>\n",
       "<table border=\"1\" class=\"dataframe\">\n",
       "  <thead>\n",
       "    <tr style=\"text-align: right;\">\n",
       "      <th></th>\n",
       "      <th>Quantità</th>\n",
       "    </tr>\n",
       "  </thead>\n",
       "  <tbody>\n",
       "    <tr>\n",
       "      <th>t1</th>\n",
       "      <td>0.000000</td>\n",
       "    </tr>\n",
       "    <tr>\n",
       "      <th>t2</th>\n",
       "      <td>188.877028</td>\n",
       "    </tr>\n",
       "    <tr>\n",
       "      <th>t3</th>\n",
       "      <td>157.365500</td>\n",
       "    </tr>\n",
       "    <tr>\n",
       "      <th>t4</th>\n",
       "      <td>73.484202</td>\n",
       "    </tr>\n",
       "    <tr>\n",
       "      <th>t5</th>\n",
       "      <td>0.000000</td>\n",
       "    </tr>\n",
       "  </tbody>\n",
       "</table>\n",
       "</div>"
      ],
      "text/plain": [
       "      Quantità\n",
       "t1    0.000000\n",
       "t2  188.877028\n",
       "t3  157.365500\n",
       "t4   73.484202\n",
       "t5    0.000000"
      ]
     },
     "metadata": {},
     "output_type": "display_data"
    },
    {
     "name": "stdout",
     "output_type": "stream",
     "text": [
      "Incasso complessivo pari a 5592.699\n"
     ]
    }
   ],
   "source": [
    "#displaying the solutions\n",
    "res = pd.DataFrame(index = S, columns=['Quantità'])\n",
    "for _ in mdl.x:\n",
    "    res.at[_] = mdl.x[_]()\n",
    "display(res)\n",
    "print('Total revenue equals {:.3f}'.format(mdl.obj()))"
   ]
  },
  {
   "cell_type": "markdown",
   "id": "fiscal-organ",
   "metadata": {
    "ExecuteTime": {
     "end_time": "2021-01-19T09:03:41.997830Z",
     "start_time": "2021-01-19T09:03:41.992957Z"
    }
   },
   "source": [
    "# Duality - 2\n",
    "As Optimizazion Theory have well shown, the kind of tarallo to prefer is the one which presents the highest shadow price. To obtain that information is crucial to get the dual of the problem of interest."
   ]
  },
  {
   "cell_type": "code",
   "execution_count": 7,
   "id": "conservative-convertible",
   "metadata": {
    "ExecuteTime": {
     "end_time": "2021-01-19T15:48:58.799416Z",
     "start_time": "2021-01-19T15:48:58.759308Z"
    }
   },
   "outputs": [
    {
     "data": {
      "text/plain": [
       "{'Problem': [{'Name': 'unknown', 'Lower bound': 5592.69854824936, 'Upper bound': 5592.69854824936, 'Number of objectives': 1, 'Number of constraints': 9, 'Number of variables': 6, 'Number of nonzeros': 40, 'Sense': 'maximize'}], 'Solver': [{'Status': 'ok', 'Termination condition': 'optimal', 'Statistics': {'Branch and bound': {'Number of bounded subproblems': 0, 'Number of created subproblems': 0}}, 'Error rc': 0, 'Time': 0.018479108810424805}], 'Solution': [OrderedDict([('number of solutions', 0), ('number of solutions displayed', 0)])]}"
      ]
     },
     "execution_count": 7,
     "metadata": {},
     "output_type": "execute_result"
    }
   ],
   "source": [
    "######################################################################definisco il modello \n",
    "mdl = pe.ConcreteModel('Modello Esame - Compito E')\n",
    "mdl.x = pe.Var(S, within = pe.NonNegativeReals)\n",
    "\n",
    "mdl.obj = pe.Objective(expr = sum(prezzi[s]*mdl.x[s] for s in S), \n",
    "                       #volendo massimizzare\n",
    "                        sense = -1)\n",
    "\n",
    "\n",
    "def vinc_tar(m, t):\n",
    "    return sum(mdl.x[s]*nt.at[s,t] for s in S) <= qlim[t]\n",
    "mdl.c_disptar = pe.Constraint(T, rule = vinc_tar)\n",
    "\n",
    "\n",
    "def perc_mas(m, s):\n",
    "    return m.x[s] <= perc[s]*sum(m.x[s] for s in S)\n",
    "mdl.c_percmas = pe.Constraint(S, rule = perc_mas)\n",
    "########################################################################\n",
    "\n",
    "#obtaing and solving the dual to the problem\n",
    "mdl.dual = pe.Suffix(direction = pe.Suffix.IMPORT)\n",
    "solver.solve(mdl)"
   ]
  },
  {
   "cell_type": "code",
   "execution_count": 8,
   "id": "capable-inside",
   "metadata": {
    "ExecuteTime": {
     "end_time": "2021-01-19T15:49:00.691347Z",
     "start_time": "2021-01-19T15:49:00.683630Z"
    }
   },
   "outputs": [
    {
     "name": "stdout",
     "output_type": "stream",
     "text": [
      "Constraint c_disptar\n",
      "Il vincolo Taralli allo zenzero ha un prezzo ombra pari a 0.828351836037575\n",
      "Il vincolo Taralli al peperoncino ha un prezzo ombra pari a 0.576857386848847\n",
      "Il vincolo Taralli al finocchietto ha un prezzo ombra pari a 0.0\n",
      "Constraint c_percmas\n",
      "Il vincolo t2 ha un prezzo ombra pari a 3.98804440649017\n",
      "Il vincolo t5 ha un prezzo ombra pari a 0.0\n",
      "Il vincolo t1 ha un prezzo ombra pari a 0.0\n",
      "Il vincolo t4 ha un prezzo ombra pari a 0.0\n",
      "Il vincolo t3 ha un prezzo ombra pari a 0.0\n"
     ]
    }
   ],
   "source": [
    "#accessing each shadow price\n",
    "for h in mdl.component_objects(pe.Constraint, active=True):\n",
    "    print (\"Constraint\",h)\n",
    "    for index in h:\n",
    "        print ('Il vincolo {} ha un prezzo ombra pari a {}'.format(index, mdl.dual[h[index]]))"
   ]
  },
  {
   "cell_type": "markdown",
   "id": "atlantic-director",
   "metadata": {},
   "source": [
    "To automatically return the identifier of the kind of tarallo which has the highest shadow price is possible to use:"
   ]
  },
  {
   "cell_type": "code",
   "execution_count": 9,
   "id": "valid-harris",
   "metadata": {
    "ExecuteTime": {
     "end_time": "2021-01-19T15:49:14.720976Z",
     "start_time": "2021-01-19T15:49:14.714127Z"
    }
   },
   "outputs": [
    {
     "name": "stdout",
     "output_type": "stream",
     "text": [
      "Conviene incrementare la disponibilità di Taralli allo zenzero che presentano un prezzo ombra pari a 0.83 €\n"
     ]
    }
   ],
   "source": [
    "import operator\n",
    "prezzi_omb = {}\n",
    "for r in T:\n",
    "    prezzi_omb[r] = mdl.dual[mdl.c_disptar[r]]\n",
    "TO_INC = max(prezzi_omb.items(), key=operator.itemgetter(1))[0]\n",
    "print('Better increasing disponibilty of {} . They present a shadow price of {:.2f} €'.\n",
    "     format(TO_INC, mdl.dual[mdl.c_disptar[TO_INC]]))"
   ]
  },
  {
   "cell_type": "markdown",
   "id": "behind-tsunami",
   "metadata": {},
   "source": [
    "# Binary Variable - 3\n",
    "\n",
    "Taking into account the fact that when storing tarallos there is the necessity to pay for this storage, it is introduced a binary variable to model that in order that the model also considers what is best in terms of revenue. This is done via use of binary variable $\\delta$"
   ]
  },
  {
   "cell_type": "code",
   "execution_count": 10,
   "id": "hourly-battery",
   "metadata": {
    "ExecuteTime": {
     "end_time": "2021-01-19T15:49:23.487179Z",
     "start_time": "2021-01-19T15:49:23.440463Z"
    }
   },
   "outputs": [
    {
     "data": {
      "text/plain": [
       "{'Problem': [{'Name': 'unknown', 'Lower bound': 5542.69854824936, 'Upper bound': 5542.69854824936, 'Number of objectives': 1, 'Number of constraints': 10, 'Number of variables': 7, 'Number of nonzeros': 42, 'Sense': 'maximize'}], 'Solver': [{'Status': 'ok', 'Termination condition': 'optimal', 'Statistics': {'Branch and bound': {'Number of bounded subproblems': '3', 'Number of created subproblems': '3'}}, 'Error rc': 0, 'Time': 0.021603822708129883}], 'Solution': [OrderedDict([('number of solutions', 0), ('number of solutions displayed', 0)])]}"
      ]
     },
     "execution_count": 10,
     "metadata": {},
     "output_type": "execute_result"
    }
   ],
   "source": [
    "### third version\n",
    "mdl = pe.ConcreteModel('Modello Esame - Compito E')\n",
    "mdl.x = pe.Var(S, within = pe.NonNegativeReals)\n",
    "mdl.delta = pe.Var(within = pe.Binary)\n",
    "mdl.obj = pe.Objective(expr = sum(prezzi[s]*mdl.x[s] for s in S) - 50*mdl.delta, \n",
    "                       #maximize\n",
    "                        sense = -1)\n",
    "\n",
    "\n",
    "def vinc_tar(m, t):\n",
    "    return sum(mdl.x[s]*nt.at[s,t] for s in S) <= qlim[t]\n",
    "mdl.c_disptar = pe.Constraint(T, rule = vinc_tar)\n",
    "\n",
    "\n",
    "def perc_mas(m, s):\n",
    "    return m.x[s] <= perc[s]*sum(m.x[s] for s in S)\n",
    "mdl.c_percmas = pe.Constraint(S, rule = perc_mas)\n",
    "\n",
    "#linking binary variable being one when actually producing t2 tarallo's type. \n",
    "bigM = 1e6\n",
    "mdl.c_log = pe.Constraint(expr = mdl.x['t2'] <= mdl.delta*bigM)\n",
    "\n",
    "solver.solve(mdl)"
   ]
  },
  {
   "cell_type": "code",
   "execution_count": 11,
   "id": "floating-rabbit",
   "metadata": {
    "ExecuteTime": {
     "end_time": "2021-01-19T15:49:26.643947Z",
     "start_time": "2021-01-19T15:49:26.630782Z"
    }
   },
   "outputs": [
    {
     "data": {
      "text/html": [
       "<div>\n",
       "<style scoped>\n",
       "    .dataframe tbody tr th:only-of-type {\n",
       "        vertical-align: middle;\n",
       "    }\n",
       "\n",
       "    .dataframe tbody tr th {\n",
       "        vertical-align: top;\n",
       "    }\n",
       "\n",
       "    .dataframe thead th {\n",
       "        text-align: right;\n",
       "    }\n",
       "</style>\n",
       "<table border=\"1\" class=\"dataframe\">\n",
       "  <thead>\n",
       "    <tr style=\"text-align: right;\">\n",
       "      <th></th>\n",
       "      <th>Quantità</th>\n",
       "    </tr>\n",
       "  </thead>\n",
       "  <tbody>\n",
       "    <tr>\n",
       "      <th>t1</th>\n",
       "      <td>0.000000</td>\n",
       "    </tr>\n",
       "    <tr>\n",
       "      <th>t2</th>\n",
       "      <td>188.877028</td>\n",
       "    </tr>\n",
       "    <tr>\n",
       "      <th>t3</th>\n",
       "      <td>157.365500</td>\n",
       "    </tr>\n",
       "    <tr>\n",
       "      <th>t4</th>\n",
       "      <td>73.484202</td>\n",
       "    </tr>\n",
       "    <tr>\n",
       "      <th>t5</th>\n",
       "      <td>0.000000</td>\n",
       "    </tr>\n",
       "  </tbody>\n",
       "</table>\n",
       "</div>"
      ],
      "text/plain": [
       "      Quantità\n",
       "t1    0.000000\n",
       "t2  188.877028\n",
       "t3  157.365500\n",
       "t4   73.484202\n",
       "t5    0.000000"
      ]
     },
     "metadata": {},
     "output_type": "display_data"
    },
    {
     "name": "stdout",
     "output_type": "stream",
     "text": [
      "Incasso complessivo pari a 5542.699\n"
     ]
    }
   ],
   "source": [
    "res_p3 = pd.DataFrame(index = S, columns=['Quantità'])\n",
    "for _ in mdl.x:\n",
    "    res_p3.at[_] = mdl.x[_]()\n",
    "display(res_p3)\n",
    "print('Incasso complessivo pari a {:.3f}'.format(mdl.obj()))"
   ]
  },
  {
   "cell_type": "markdown",
   "id": "certified-truck",
   "metadata": {
    "ExecuteTime": {
     "end_time": "2021-01-19T09:25:39.646440Z",
     "start_time": "2021-01-19T09:25:39.641303Z"
    }
   },
   "source": [
    "# Iterating solve process - 4\n",
    "\n",
    "The problem is now solved several times by increasing the value of the availability of 'Taralli allo zenzero' in each iteration until this increase in availability no longer results in an increase in the value of the revenue. This increase takes place without considering the commercial modification taken into proper account in point 3.\n",
    "\n",
    "It can be observed that the increase in the availability of 'Taralli al peperoncino' logically entails an increase in the value of the objective function, given the fact that the value of the dual variable associated with the primal constraint for compliance with the availability (limit quantity) of 'Taralli allo zenzero'is equal to $ 0.83> 0 $"
   ]
  },
  {
   "cell_type": "code",
   "execution_count": 13,
   "id": "handled-plane",
   "metadata": {
    "ExecuteTime": {
     "end_time": "2021-01-19T15:52:12.367382Z",
     "start_time": "2021-01-19T15:52:12.149023Z"
    },
    "scrolled": false
   },
   "outputs": [
    {
     "data": {
      "text/html": [
       "<div>\n",
       "<style scoped>\n",
       "    .dataframe tbody tr th:only-of-type {\n",
       "        vertical-align: middle;\n",
       "    }\n",
       "\n",
       "    .dataframe tbody tr th {\n",
       "        vertical-align: top;\n",
       "    }\n",
       "\n",
       "    .dataframe thead th {\n",
       "        text-align: right;\n",
       "    }\n",
       "</style>\n",
       "<table border=\"1\" class=\"dataframe\">\n",
       "  <thead>\n",
       "    <tr style=\"text-align: right;\">\n",
       "      <th></th>\n",
       "      <th>Quantità</th>\n",
       "    </tr>\n",
       "  </thead>\n",
       "  <tbody>\n",
       "    <tr>\n",
       "      <th>t1</th>\n",
       "      <td>0.000000</td>\n",
       "    </tr>\n",
       "    <tr>\n",
       "      <th>t2</th>\n",
       "      <td>285.135624</td>\n",
       "    </tr>\n",
       "    <tr>\n",
       "      <th>t3</th>\n",
       "      <td>112.115732</td>\n",
       "    </tr>\n",
       "    <tr>\n",
       "      <th>t4</th>\n",
       "      <td>236.383363</td>\n",
       "    </tr>\n",
       "    <tr>\n",
       "      <th>t5</th>\n",
       "      <td>0.000000</td>\n",
       "    </tr>\n",
       "  </tbody>\n",
       "</table>\n",
       "</div>"
      ],
      "text/plain": [
       "      Quantità\n",
       "t1    0.000000\n",
       "t2  285.135624\n",
       "t3  112.115732\n",
       "t4  236.383363\n",
       "t5    0.000000"
      ]
     },
     "metadata": {},
     "output_type": "display_data"
    },
    {
     "name": "stdout",
     "output_type": "stream",
     "text": [
      "Il massimo valore conveniente di disponibilità è pari a 9100.0\n",
      "Incasso al massimo valore conveniente di disponibilità è pari a 7815.696\n"
     ]
    }
   ],
   "source": [
    "#setting a bound\n",
    "qlim['Taralli allo zenzero'] = 5100\n",
    "\n",
    "qincr = 500\n",
    "\n",
    "################################################### defyning the model as at point 1\n",
    "mdl = pe.ConcreteModel('Modello Esame - Compito E')\n",
    "mdl.x = pe.Var(S, within = pe.NonNegativeReals)\n",
    "\n",
    "mdl.obj = pe.Objective(expr = sum(prezzi[s]*mdl.x[s] for s in S), \n",
    "                       \n",
    "                        sense = -1)\n",
    "\n",
    "\n",
    "def vinc_tar(m, t):\n",
    "    return sum(mdl.x[s]*nt.at[s,t] for s in S) <= qlim[t]\n",
    "mdl.c_disptar = pe.Constraint(T, rule = vinc_tar)\n",
    "\n",
    "\n",
    "def perc_mas(m, s):\n",
    "    return m.x[s] <= perc[s]*sum(m.x[s] for s in S)\n",
    "mdl.c_percmas = pe.Constraint(S, rule = perc_mas)\n",
    "###################################################\n",
    "\n",
    "################################################### defyning again the dual \n",
    "mdl.dual = pe.Suffix(direction = pe.Suffix.IMPORT)\n",
    "solver.solve(mdl)\n",
    "\n",
    "while mdl.dual[mdl.c_disptar['Taralli al peperoncino']]>0:\n",
    "    qlim['Taralli al peperoncino'] += 500\n",
    "\n",
    "    #getting rid of the availability constraint\n",
    "    mdl.del_component(mdl.c_disptar)\n",
    "    #getting rid of indexes\n",
    "    mdl.del_component(mdl.c_disptar_index)\n",
    "    #getting new value having increased the general maximal availability value\n",
    "    mdl.c_disptar = mdl.c_disptar = pe.Constraint(T, rule = vinc_tar)\n",
    "    \n",
    "    #solve\n",
    "    pe.SolverFactory('glpk').solve(mdl)\n",
    "    \n",
    "    #accedo ai risultati per ogni iterazione (per capire se tutto funziona come dovrebbe)\n",
    "    res_p4 = pd.DataFrame(index = S, columns=['Quantità'])\n",
    "    for _ in mdl.x:\n",
    "        res_p4.at[_] = mdl.x[_]()\n",
    "\n",
    "#display results\n",
    "display(res_p4)\n",
    "\n",
    "print('The highest value to which it is justified to increase' +\n",
    "      'availability is {}'.format(qlim['Taralli allo zenzero']))\n",
    "\n",
    "print(\"Maximal revenue having obtained the maximal availability increase {:.3f}\".format(mdl.obj()))"
   ]
  },
  {
   "cell_type": "code",
   "execution_count": null,
   "id": "romance-safety",
   "metadata": {},
   "outputs": [],
   "source": []
  }
 ],
 "metadata": {
  "kernelspec": {
   "display_name": "Python 3",
   "language": "python",
   "name": "python3"
  },
  "language_info": {
   "codemirror_mode": {
    "name": "ipython",
    "version": 3
   },
   "file_extension": ".py",
   "mimetype": "text/x-python",
   "name": "python",
   "nbconvert_exporter": "python",
   "pygments_lexer": "ipython3",
   "version": "3.7.9"
  },
  "latex_envs": {
   "LaTeX_envs_menu_present": true,
   "autoclose": false,
   "autocomplete": true,
   "bibliofile": "biblio.bib",
   "cite_by": "apalike",
   "current_citInitial": 1,
   "eqLabelWithNumbers": true,
   "eqNumInitial": 1,
   "hotkeys": {
    "equation": "Ctrl-E",
    "itemize": "Ctrl-I"
   },
   "labels_anchors": false,
   "latex_user_defs": false,
   "report_style_numbering": false,
   "user_envs_cfg": false
  },
  "varInspector": {
   "cols": {
    "lenName": 16,
    "lenType": 16,
    "lenVar": 40
   },
   "kernels_config": {
    "python": {
     "delete_cmd_postfix": "",
     "delete_cmd_prefix": "del ",
     "library": "var_list.py",
     "varRefreshCmd": "print(var_dic_list())"
    },
    "r": {
     "delete_cmd_postfix": ") ",
     "delete_cmd_prefix": "rm(",
     "library": "var_list.r",
     "varRefreshCmd": "cat(var_dic_list()) "
    }
   },
   "position": {
    "height": "386px",
    "left": "1070px",
    "right": "20px",
    "top": "120px",
    "width": "350px"
   },
   "types_to_exclude": [
    "module",
    "function",
    "builtin_function_or_method",
    "instance",
    "_Feature"
   ],
   "window_display": false
  }
 },
 "nbformat": 4,
 "nbformat_minor": 5
}
